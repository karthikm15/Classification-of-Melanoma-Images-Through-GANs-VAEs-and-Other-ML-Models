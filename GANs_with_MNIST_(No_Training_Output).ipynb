{
  "nbformat": 4,
  "nbformat_minor": 0,
  "metadata": {
    "colab": {
      "name": "GANs with MNIST (No Training Output).ipynb",
      "provenance": [],
      "collapsed_sections": [],
      "include_colab_link": true
    },
    "kernelspec": {
      "name": "python3",
      "display_name": "Python 3"
    },
    "accelerator": "GPU"
  },
  "cells": [
    {
      "cell_type": "markdown",
      "metadata": {
        "id": "view-in-github",
        "colab_type": "text"
      },
      "source": [
        "<a href=\"https://colab.research.google.com/github/karthikm15/Semi-Supervised-GANs-For-Melanoma-Detection/blob/main/GANs_with_MNIST_(No_Training_Output).ipynb\" target=\"_parent\"><img src=\"https://colab.research.google.com/assets/colab-badge.svg\" alt=\"Open In Colab\"/></a>"
      ]
    },
    {
      "cell_type": "code",
      "metadata": {
        "id": "kdsFtxWsAqyl"
      },
      "source": [
        "# example of loading the mnist dataset\n",
        "from keras.datasets.mnist import load_data\n",
        "from matplotlib import pyplot\n",
        "\n",
        "# for defining the discriminator and generator model\n",
        "from numpy import zeros\n",
        "from numpy.random import randn\n",
        "from keras.models import Sequential\n",
        "from keras.optimizers import Adam\n",
        "from numpy import vstack\n",
        "from keras.layers import Dense\n",
        "from keras.layers import Conv2D\n",
        "from keras.layers import Reshape\n",
        "from keras.layers import Conv2DTranspose\n",
        "from keras.layers import Flatten\n",
        "from keras.layers import Dropout\n",
        "from keras.layers import LeakyReLU\n",
        "from keras.utils.vis_utils import plot_model\n",
        "\n",
        "# for training the discriminator model on resized fake and real images\n",
        "from numpy import expand_dims\n",
        "from numpy import ones\n",
        "from numpy import zeros\n",
        "from numpy.random import rand\n",
        "from numpy.random import randint\n",
        "import numpy as np\n"
      ],
      "execution_count": null,
      "outputs": []
    },
    {
      "cell_type": "code",
      "metadata": {
        "id": "e2npAT0RBGZn"
      },
      "source": [
        "# load the images into memory\n",
        "(trainX, trainy), (testX, testy) = load_data()\n",
        "# summarize the shape of the dataset\n",
        "print('Train', trainX.shape, trainy.shape)\n",
        "print('Test', testX.shape, testy.shape)"
      ],
      "execution_count": null,
      "outputs": []
    },
    {
      "cell_type": "code",
      "metadata": {
        "id": "E4ZsXLqvA3tN"
      },
      "source": [
        "plt.imshow(trainX[0], cmap=\"gray_r\")"
      ],
      "execution_count": null,
      "outputs": []
    },
    {
      "cell_type": "code",
      "metadata": {
        "id": "IJgpeKCXBB8x"
      },
      "source": [
        "for i in range(25):\n",
        "\t# define subplot\n",
        "\tpyplot.subplot(5, 5, 1+i)\n",
        "\t# turn off axis\n",
        "\tpyplot.axis('off')\n",
        "\t# plot raw pixel data\n",
        "\tpyplot.imshow(trainX[i], cmap='gray_r')\n",
        "pyplot.show()"
      ],
      "execution_count": null,
      "outputs": []
    },
    {
      "cell_type": "code",
      "metadata": {
        "id": "v1Hni3rqBZlc"
      },
      "source": [
        "# define the standalone discriminator model\n",
        "# 2 convolutional layers with 64 filters each, kernel sizes of three, and a stride of two\n",
        "def define_discriminator(in_shape=(28,28,1)):\n",
        "\tmodel = Sequential()\n",
        "\tmodel.add(Conv2D(64, (3,3), strides=(2, 2), padding='same', input_shape=in_shape))\n",
        "\tmodel.add(LeakyReLU(alpha=0.2))\n",
        "\tmodel.add(Dropout(0.4))\n",
        "\tmodel.add(Conv2D(64, (3,3), strides=(2, 2), padding='same'))\n",
        "\tmodel.add(LeakyReLU(alpha=0.2))\n",
        "\tmodel.add(Dropout(0.4))\n",
        "\tmodel.add(Flatten())\n",
        "\tmodel.add(Dense(1, activation='sigmoid'))\n",
        "\t# compile model\n",
        "\topt = Adam(lr=0.0002, beta_1=0.5)\n",
        "\tmodel.compile(loss='binary_crossentropy', optimizer=opt, metrics=['accuracy'])\n",
        "\treturn model"
      ],
      "execution_count": null,
      "outputs": []
    },
    {
      "cell_type": "code",
      "metadata": {
        "id": "EGovznV_CGzi"
      },
      "source": [
        "# define model\n",
        "model = define_discriminator()\n",
        "# summarize the model\n",
        "model.summary()\n",
        "# plot the model\n",
        "plot_model(model, to_file='discriminator_plot.png', show_shapes=True, show_layer_names=True)"
      ],
      "execution_count": null,
      "outputs": []
    },
    {
      "cell_type": "code",
      "metadata": {
        "id": "0rME-1NpD3Rr"
      },
      "source": [
        "def load_real_samples():\n",
        "\t# load mnist dataset\n",
        "\t(trainX, _), (_, _) = load_data()\n",
        "\t# expand to 3d, e.g. add channels dimension\n",
        "\tX = np.expand_dims(trainX, axis=-1)\n",
        "\t# convert from unsigned ints to floats\n",
        "\tX = X.astype('float32')\n",
        "\t# scale from [0,255] to [0,1]\n",
        "\tX = X / 255.0\n",
        "\treturn X"
      ],
      "execution_count": null,
      "outputs": []
    },
    {
      "cell_type": "code",
      "metadata": {
        "id": "-efSngIqIoMk"
      },
      "source": [
        "def generate_real_samples(dataset, n_samples):\n",
        "  ix = randint(0, dataset.shape[0], n_samples)\n",
        "  X = dataset[ix]\n",
        "  y = ones((n_samples,1))\n",
        "  y = np.asarray(y).astype('float32').reshape((-1,1))\n",
        "  return X, y"
      ],
      "execution_count": null,
      "outputs": []
    },
    {
      "cell_type": "code",
      "metadata": {
        "id": "F-Ng9_jVIS15"
      },
      "source": [
        "def generate_fake_samples(n_samples):\n",
        "  X = rand(28*28*n_samples)\n",
        "  X = X.reshape((n_samples, 28, 28, 1))\n",
        "  y = zeros((n_samples, 1))\n",
        "  y = np.asarray(y).astype('float32').reshape((-1,1))\n",
        "  return X, y"
      ],
      "execution_count": null,
      "outputs": []
    },
    {
      "cell_type": "code",
      "metadata": {
        "id": "1gE_wJ0NEwBO"
      },
      "source": [
        "# train the discriminator model\n",
        "def train_discriminator(model, dataset, n_iter=100, n_batch=256):\n",
        "  half_batch = int(n_batch / 2)\n",
        "  # manually enumerate epochs\n",
        "  for i in range(n_iter):\n",
        "    # get randomly selected 'real' samples\n",
        "    X_real, y_real = generate_real_samples(dataset, half_batch)\n",
        "    # update discriminator on real samples\n",
        "    _, real_acc = model.train_on_batch(X_real, y_real)\n",
        "    # generate 'fake' examples\n",
        "    X_fake, y_fake = generate_fake_samples(half_batch)\n",
        "    # update discriminator on fake samples\n",
        "    _, fake_acc = model.train_on_batch(X_fake, y_fake)\n",
        "    # summarize performance\n",
        "    print('>%d real=%.0f%% fake=%.0f%%' % (i+1, real_acc*100, fake_acc*100))"
      ],
      "execution_count": null,
      "outputs": []
    },
    {
      "cell_type": "code",
      "metadata": {
        "id": "Mf4DpdPGFdzk"
      },
      "source": [
        "model = define_discriminator()\n",
        "# load image data\n",
        "dataset = load_real_samples()\n",
        "# fit the model\n",
        "train_discriminator(model, dataset)"
      ],
      "execution_count": null,
      "outputs": []
    },
    {
      "cell_type": "code",
      "metadata": {
        "id": "G1ZWWzDPFnLl"
      },
      "source": [
        "def define_generator(latent_dim):\n",
        "\tmodel = Sequential()\n",
        "\t# foundation for 7x7 image\n",
        "\tn_nodes = 128 * 7 * 7\n",
        "\tmodel.add(Dense(n_nodes, input_dim=latent_dim))\n",
        "\tmodel.add(LeakyReLU(alpha=0.2))\n",
        "\tmodel.add(Reshape((7, 7, 128)))\n",
        "\t# upsample to 14x14\n",
        "\tmodel.add(Conv2DTranspose(128, (4,4), strides=(2,2), padding='same'))\n",
        "\tmodel.add(LeakyReLU(alpha=0.2))\n",
        "\t# upsample to 28x28\n",
        "\tmodel.add(Conv2DTranspose(128, (4,4), strides=(2,2), padding='same'))\n",
        "\tmodel.add(LeakyReLU(alpha=0.2))\n",
        "\tmodel.add(Conv2D(1, (7,7), activation='sigmoid', padding='same'))\n",
        "\treturn model"
      ],
      "execution_count": null,
      "outputs": []
    },
    {
      "cell_type": "code",
      "metadata": {
        "id": "uCIas9bEOSK1"
      },
      "source": [
        "# define the size of the latent space\n",
        "latent_dim = 100\n",
        "# define the generator model\n",
        "model = define_generator(latent_dim)\n",
        "# summarize the model\n",
        "model.summary()\n",
        "# plot the model\n",
        "plot_model(model, to_file='generator_plot.png', show_shapes=True, show_layer_names=True)"
      ],
      "execution_count": null,
      "outputs": []
    },
    {
      "cell_type": "code",
      "metadata": {
        "id": "ule7ZS_dOxh2"
      },
      "source": [
        "# generate points in latent space as input for the generator\n",
        "def generate_latent_points(latent_dim, n_samples):\n",
        "\t# generate points in the latent space\n",
        "\tx_input = randn(latent_dim * n_samples)\n",
        "\t# reshape into a batch of inputs for the network\n",
        "\tx_input = x_input.reshape(n_samples, latent_dim)\n",
        "\treturn x_input"
      ],
      "execution_count": null,
      "outputs": []
    },
    {
      "cell_type": "code",
      "metadata": {
        "id": "Rbijos_bPLiq"
      },
      "source": [
        "# use the generator to generate n fake examples, with class labels\n",
        "def generate_fake_samples(g_model, latent_dim, n_samples):\n",
        "\t# generate points in latent space\n",
        "\tx_input = generate_latent_points(latent_dim, n_samples)\n",
        "\t# predict outputs\n",
        "\tX = g_model.predict(x_input)\n",
        "\t# create 'fake' class labels (0)\n",
        "\ty = zeros((n_samples, 1))\n",
        "\treturn X, y"
      ],
      "execution_count": null,
      "outputs": []
    },
    {
      "cell_type": "code",
      "metadata": {
        "id": "YXEdJjw5PRiZ"
      },
      "source": [
        "n_samples = 25\n",
        "X, _ = generate_fake_samples(model, latent_dim, n_samples)\n",
        "# plot the generated samples\n",
        "for i in range(n_samples):\n",
        "\t# define subplot\n",
        "\tpyplot.subplot(5, 5, 1 + i)\n",
        "\t# turn off axis labels\n",
        "\tpyplot.axis('off')\n",
        "\t# plot single image\n",
        "\tpyplot.imshow(X[i, :, :, 0], cmap='gray_r')\n",
        "# show the figure\n",
        "pyplot.show()"
      ],
      "execution_count": null,
      "outputs": []
    },
    {
      "cell_type": "code",
      "metadata": {
        "id": "8IUf3eJIPllo"
      },
      "source": [
        "# define the combined generator and discriminator model, for updating the generator\n",
        "def define_gan(g_model, d_model):\n",
        "\t# make weights in the discriminator not trainable\n",
        "\td_model.trainable = False\n",
        "\t# connect them\n",
        "\tmodel = Sequential()\n",
        "\t# add generator\n",
        "\tmodel.add(g_model)\n",
        "\t# add the discriminator\n",
        "\tmodel.add(d_model)\n",
        "\t# compile model\n",
        "\topt = Adam(lr=0.0002, beta_1=0.5)\n",
        "\tmodel.compile(loss='binary_crossentropy', optimizer=opt)\n",
        "\treturn model"
      ],
      "execution_count": null,
      "outputs": []
    },
    {
      "cell_type": "code",
      "metadata": {
        "id": "jwafx6QqQ9It"
      },
      "source": [
        "# size of the latent space\n",
        "latent_dim = 100\n",
        "# create the discriminator\n",
        "d_model = define_discriminator()\n",
        "# create the generator\n",
        "g_model = define_generator(latent_dim)\n",
        "# create the gan\n",
        "gan_model = define_gan(g_model, d_model)\n",
        "# summarize gan model\n",
        "gan_model.summary()\n",
        "# plot gan model\n",
        "plot_model(gan_model, to_file='gan_plot.png', show_shapes=True, show_layer_names=True)"
      ],
      "execution_count": null,
      "outputs": []
    },
    {
      "cell_type": "code",
      "metadata": {
        "id": "uCvk7J2wRgrj"
      },
      "source": [
        "def train_gan(gan_model, latent_dim, n_epochs=100, n_batch=256):\n",
        "\t# manually enumerate epochs\n",
        "\tfor i in range(n_epochs):\n",
        "\t\t# prepare points in latent space as input for the generator\n",
        "\t\tx_gan = generate_latent_points(latent_dim, n_batch)\n",
        "\t\t# create inverted labels for the fake samples\n",
        "\t\ty_gan = ones((n_batch, 1))\n",
        "\t\t# update the generator via the discriminator's error\n",
        "\t\tgan_model.train_on_batch(x_gan, y_gan)"
      ],
      "execution_count": null,
      "outputs": []
    },
    {
      "cell_type": "code",
      "metadata": {
        "id": "-fs5PR7fRxJI"
      },
      "source": [
        "# create and save a plot of generated images (reversed grayscale)\n",
        "def save_plot(examples, epoch, n=10):\n",
        "\t# plot images\n",
        "\tfor i in range(n * n):\n",
        "\t\t# define subplot\n",
        "\t\tpyplot.subplot(n, n, 1 + i)\n",
        "\t\t# turn off axis\n",
        "\t\tpyplot.axis('off')\n",
        "\t\t# plot raw pixel data\n",
        "\t\tpyplot.imshow(examples[i, :, :, 0], cmap='gray_r')\n",
        "\t# save plot to file\n",
        "\tfilename = 'generated_plot_e%03d.png' % (epoch+1)\n",
        "\tpyplot.savefig(filename)\n",
        "\tpyplot.close()\n",
        "\n",
        "# evaluate the discriminator, plot generated images, save generator model\n",
        "def summarize_performance(epoch, g_model, d_model, dataset, latent_dim, n_samples=100):\n",
        "\t# prepare real samples\n",
        "\tX_real, y_real = generate_real_samples(dataset, n_samples)\n",
        "\t# evaluate discriminator on real examples\n",
        "\t_, acc_real = d_model.evaluate(X_real, y_real, verbose=0)\n",
        "\t# prepare fake examples\n",
        "\tx_fake, y_fake = generate_fake_samples(g_model, latent_dim, n_samples)\n",
        "\t# evaluate discriminator on fake examples\n",
        "\t_, acc_fake = d_model.evaluate(x_fake, y_fake, verbose=0)\n",
        "\t# summarize discriminator performance\n",
        "  # filename = 'generator_model_%03d.h5' % (epoch+1)\n",
        "  # g_model.save(filename)\n",
        "\tprint('>Accuracy real: %.0f%%, fake: %.0f%%' % (acc_real*100, acc_fake*100))\n",
        "  # save plot\n",
        "\tsave_plot(x_fake, epoch)\n",
        " \n",
        "def train(g_model, d_model, gan_model, dataset, latent_dim, n_epochs=100, n_batch=256):\n",
        "\tbat_per_epo = int(dataset.shape[0] / n_batch)\n",
        "\thalf_batch = int(n_batch / 2)\n",
        "\t# manually enumerate epochs\n",
        "\tfor i in range(n_epochs):\n",
        "\t\t# enumerate batches over the training set\n",
        "\t\tfor j in range(bat_per_epo):\n",
        "\t\t\t# get randomly selected 'real' samples\n",
        "\t\t\tX_real, y_real = generate_real_samples(dataset, half_batch)\n",
        "\t\t\t# generate 'fake' examples\n",
        "\t\t\tX_fake, y_fake = generate_fake_samples(g_model, latent_dim, half_batch)\n",
        "\t\t\t# create training set for the discriminator\n",
        "\t\t\tX, y = vstack((X_real, X_fake)), vstack((y_real, y_fake))\n",
        "\t\t\t# update discriminator model weights\n",
        "\t\t\td_loss, _ = d_model.train_on_batch(X, y)\n",
        "\t\t\t# prepare points in latent space as input for the generator\n",
        "\t\t\tX_gan = generate_latent_points(latent_dim, n_batch)\n",
        "\t\t\t# create inverted labels for the fake samples\n",
        "\t\t\ty_gan = ones((n_batch, 1))\n",
        "\t\t\t# update the generator via the discriminator's error\n",
        "\t\t\tg_loss = gan_model.train_on_batch(X_gan, y_gan)\n",
        "\t\t\t# summarize loss on this batch\n",
        "\t\t\tprint('>%d, %d/%d, d=%.3f, g=%.3f' % (i+1, j+1, bat_per_epo, d_loss, g_loss))\n",
        "   \n",
        "  # evaluate the model performance, sometimes\n",
        "\tif (i+1) % 10 == 0:\n",
        "\t\tsummarize_performance(i, g_model, d_model, dataset, latent_dim)"
      ],
      "execution_count": null,
      "outputs": []
    },
    {
      "cell_type": "code",
      "metadata": {
        "id": "hl8xJw78SOaI"
      },
      "source": [
        "latent_dim = 100\n",
        "# create the discriminator\n",
        "d_model = define_discriminator()\n",
        "# create the generator\n",
        "g_model = define_generator(latent_dim)\n",
        "# create the gan\n",
        "gan_model = define_gan(g_model, d_model)\n",
        "# load image data\n",
        "dataset = load_real_samples()\n",
        "# train model\n",
        "train(g_model, d_model, gan_model, dataset, latent_dim)"
      ],
      "execution_count": null,
      "outputs": []
    },
    {
      "cell_type": "code",
      "metadata": {
        "id": "kjaxeaW4UMbX"
      },
      "source": [
        "from keras.models import load_model\n",
        "from numpy.random import randn\n",
        "from matplotlib import pyplot\n",
        " \n",
        "# generate points in latent space as input for the generator\n",
        "def generate_latent_points(latent_dim, n_samples):\n",
        "\t# generate points in the latent space\n",
        "\tx_input = randn(latent_dim * n_samples)\n",
        "\t# reshape into a batch of inputs for the network\n",
        "\tx_input = x_input.reshape(n_samples, latent_dim)\n",
        "\treturn x_input\n",
        " \n",
        "# create and save a plot of generated images (reversed grayscale)\n",
        "def save_plot(examples, n):\n",
        "\t# plot images\n",
        "\tfor i in range(n * n):\n",
        "\t\t# define subplot\n",
        "\t\tpyplot.subplot(n, n, 1 + i)\n",
        "\t\t# turn off axis\n",
        "\t\tpyplot.axis('off')\n",
        "\t\t# plot raw pixel data\n",
        "\t\tpyplot.imshow(examples[i, :, :, 0], cmap='gray_r')\n",
        "\tpyplot.show()\n",
        " \n",
        "# load model\n",
        "# generate images\n",
        "latent_points = generate_latent_points(100, 25)\n",
        "# generate images\n",
        "X = g_model.predict(latent_points)\n",
        "# plot the result\n",
        "save_plot(X, 5)"
      ],
      "execution_count": null,
      "outputs": []
    },
    {
      "cell_type": "code",
      "metadata": {
        "id": "TlAKYZ-7XT3a"
      },
      "source": [
        "# example of generating an image for a specific point in the latent space\n",
        "from keras.models import load_model\n",
        "from numpy import asarray\n",
        "from matplotlib import pyplot\n",
        "# load model\n",
        "# all 0s\n",
        "vector = asarray([[0.0 for _ in range(100)]])\n",
        "# generate image\n",
        "X = g_model.predict(vector)\n",
        "# plot the result\n",
        "pyplot.imshow(X[0, :, :, 0], cmap='gray_r')\n",
        "pyplot.show()"
      ],
      "execution_count": null,
      "outputs": []
    }
  ]
}