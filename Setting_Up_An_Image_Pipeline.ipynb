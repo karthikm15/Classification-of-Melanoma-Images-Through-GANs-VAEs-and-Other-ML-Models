{
  "nbformat": 4,
  "nbformat_minor": 0,
  "metadata": {
    "colab": {
      "name": "Setting Up An Image Pipeline.ipynb",
      "provenance": [],
      "collapsed_sections": [],
      "include_colab_link": true
    },
    "kernelspec": {
      "name": "python3",
      "display_name": "Python 3"
    },
    "accelerator": "GPU"
  },
  "cells": [
    {
      "cell_type": "markdown",
      "metadata": {
        "id": "view-in-github",
        "colab_type": "text"
      },
      "source": [
        "<a href=\"https://colab.research.google.com/github/karthikm15/Semi-Supervised-GANs-For-Melanoma-Detection/blob/main/Setting_Up_An_Image_Pipeline.ipynb\" target=\"_parent\"><img src=\"https://colab.research.google.com/assets/colab-badge.svg\" alt=\"Open In Colab\"/></a>"
      ]
    },
    {
      "cell_type": "code",
      "metadata": {
        "id": "KcH4k-7jIs-V",
        "outputId": "f4b7a499-6d9a-4489-e10d-a300f7899b1b",
        "colab": {
          "base_uri": "https://localhost:8080/"
        }
      },
      "source": [
        "import matplotlib.pyplot as plt\n",
        "%matplotlib inline\n",
        "\n",
        "import numpy as np\n",
        "\n",
        "import torch\n",
        "import torch.nn as nn\n",
        "import torch.nn.functional as F\n",
        "from torch.utils.data import DataLoader, Dataset\n",
        "\n",
        "import torchvision\n",
        "import torchvision.transforms as transforms\n",
        "\n",
        "import os\n",
        "\n",
        "import tensorflow as tf\n",
        "import tensorflow.strings\n",
        "\n",
        "if torch.cuda.is_available():\n",
        "   print(\"Your Colab notebook is configured to run on the GPU!\")\n",
        "else:\n",
        "   print(\"If you see this message, your Colab notebook is currently running on the CPU. Click the Runtime dropdown menu, select Change runtime type, and  choose GPU in the list of Hardware accelerators\")\n",
        "\n",
        "device = torch.device('cuda:0' if torch.cuda.is_available() else 'cpu')"
      ],
      "execution_count": 8,
      "outputs": [
        {
          "output_type": "stream",
          "text": [
            "Your Colab notebook is configured to run on the GPU!\n"
          ],
          "name": "stdout"
        }
      ]
    },
    {
      "cell_type": "code",
      "metadata": {
        "id": "D41QqyiYLF34",
        "outputId": "6feb6214-a5fc-4ee4-e597-85318210b0c7",
        "colab": {
          "base_uri": "https://localhost:8080/"
        }
      },
      "source": [
        "import os.path\n",
        "\n",
        "class ImageUnlabeled(torch.utils.data.Dataset):\n",
        "  def __init__(self, dir_path, transform=None):\n",
        "    self.dir_path = dir_path\n",
        "    self.transform = transform\n",
        "  def __len__(self):\n",
        "    path, dirs, files = next(os.walk(self.dir_path))\n",
        "    file_count = len(files)\n",
        "    return file_count\n",
        "  def __getitem__(self, i):\n",
        "    string = tf.strings.as_string(i).numpy()\n",
        "    string = string.decode()\n",
        "\n",
        "    file_path = self.dir_path + \"/\" +str(string)+\"_\"\n",
        "\n",
        "    if (os.path.isfile(file_path+\"0\"+\".jpg\")):\n",
        "      return (file_path+\"0\" + \".jpg\", str(string))\n",
        "    elif (os.path.isfile(file_path+\"1\"+\".jpg\")):\n",
        "      return (file_path + \"1\" + \".jpg\", str(string))\n",
        "    else:\n",
        "      return (\"Error\", str(string))\n",
        "  \n",
        "class ImageLabeled(torch.utils.data.Dataset):\n",
        "  def __init__(self, dir_path, transform=None):\n",
        "    self.dir_path = dir_path\n",
        "    self.transform = transform\n",
        "  def __len__(self):\n",
        "    path, dirs, files = next(os.walk(self.dir_path))\n",
        "    file_count = len(files)\n",
        "    return file_count\n",
        "  def __getitem__(self, i):\n",
        "    string = tf.strings.as_string(i).numpy()\n",
        "    string = string.decode()\n",
        "\n",
        "    file_path = self.dir_path + \"/\" +str(string)+\"_\"\n",
        "\n",
        "    if (os.path.isfile(file_path+\"0\"+\".jpg\")):\n",
        "      return (file_path+\"0\" + \".jpg\", string)\n",
        "    elif (os.path.isfile(file_path+\"1\"+\".jpg\")):\n",
        "      return (file_path + \"1\" + \".jpg\", string)\n",
        "    else:\n",
        "      return (\"Error\", string)\n",
        "\n",
        "unlabeled_data = ImageUnlabeled('./unlabeled')\n",
        "labeled_data = ImageLabeled('./labeled')\n",
        "\n",
        "unlabeled_loader = DataLoader(unlabeled_data, shuffle = True, persistent_workers=False)\n",
        "labeled_loader = DataLoader(labeled_data, shuffle = True, persistent_workers=False)\n",
        "\n",
        "# For unlabeled data (1 batch):\n",
        "print(next(iter(unlabeled_loader)))\n",
        "\n",
        "# For labeled data (1 batch):\n",
        "print(next(iter(labeled_loader)))"
      ],
      "execution_count": 43,
      "outputs": [
        {
          "output_type": "stream",
          "text": [
            "[('Error',), ('239',)]\n",
            "[('./labeled/38_0.jpg',), ('38',)]\n"
          ],
          "name": "stdout"
        }
      ]
    }
  ]
}