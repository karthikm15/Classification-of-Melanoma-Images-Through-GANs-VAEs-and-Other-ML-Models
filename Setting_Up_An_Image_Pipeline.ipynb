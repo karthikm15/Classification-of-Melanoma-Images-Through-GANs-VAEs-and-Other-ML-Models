{
  "nbformat": 4,
  "nbformat_minor": 0,
  "metadata": {
    "colab": {
      "name": "Setting Up An Image Pipeline.ipynb",
      "provenance": [],
      "collapsed_sections": [],
      "include_colab_link": true
    },
    "kernelspec": {
      "name": "python3",
      "display_name": "Python 3"
    },
    "accelerator": "GPU"
  },
  "cells": [
    {
      "cell_type": "markdown",
      "metadata": {
        "id": "view-in-github",
        "colab_type": "text"
      },
      "source": [
        "<a href=\"https://colab.research.google.com/github/karthikm15/Semi-Supervised-GANs-For-Melanoma-Detection/blob/main/Setting_Up_An_Image_Pipeline.ipynb\" target=\"_parent\"><img src=\"https://colab.research.google.com/assets/colab-badge.svg\" alt=\"Open In Colab\"/></a>"
      ]
    },
    {
      "cell_type": "code",
      "metadata": {
        "id": "KcH4k-7jIs-V",
        "outputId": "ac921eed-30b0-44ae-de83-d3c9795bac9a",
        "colab": {
          "base_uri": "https://localhost:8080/"
        }
      },
      "source": [
        "import matplotlib.pyplot as plt\n",
        "%matplotlib inline\n",
        "\n",
        "import numpy as np\n",
        "\n",
        "import torch\n",
        "import torch.nn as nn\n",
        "import torch.nn.functional as F\n",
        "from torch.utils.data import DataLoader, Dataset\n",
        "\n",
        "import torchvision\n",
        "import torchvision.transforms as transforms\n",
        "\n",
        "import os\n",
        "\n",
        "import tensorflow as tf\n",
        "import tensorflow.strings\n",
        "from PIL import Image\n",
        "\n",
        "if torch.cuda.is_available():\n",
        "   print(\"Your Colab notebook is configured to run on the GPU!\")\n",
        "else:\n",
        "   print(\"If you see this message, your Colab notebook is currently running on the CPU. Click the Runtime dropdown menu, select Change runtime type, and  choose GPU in the list of Hardware accelerators\")\n",
        "\n",
        "device = torch.device('cuda:0' if torch.cuda.is_available() else 'cpu')"
      ],
      "execution_count": 94,
      "outputs": [
        {
          "output_type": "stream",
          "text": [
            "Your Colab notebook is configured to run on the GPU!\n"
          ],
          "name": "stdout"
        }
      ]
    },
    {
      "cell_type": "code",
      "metadata": {
        "id": "D41QqyiYLF34",
        "outputId": "a81ca081-bd8b-41e1-9d8f-e00469e15c38",
        "colab": {
          "base_uri": "https://localhost:8080/"
        }
      },
      "source": [
        "import os.path\n",
        "import matplotlib.pyplot as plt\n",
        "import matplotlib.image as mpimg\n",
        "from IPython import display\n",
        "import time\n",
        "\n",
        "# directory, label = next(iter(labeled_loader))\n",
        "import cv2 # import opencv\n",
        "\n",
        "# # load image \n",
        "# image = cv2.imread(directory[0])\n",
        "\n",
        "# resized_img = cv2.resize(image, (100, 100), interpolation = cv2.INTER_AREA)\n",
        "# plt.imshow(resized_img) \n",
        "\n",
        "class ImageUnlabeled(torch.utils.data.Dataset):\n",
        "  def __init__(self, dir_path, transform=None):\n",
        "    self.dir_path = dir_path\n",
        "    self.transform = transform\n",
        "  def __len__(self):\n",
        "    path, dirs, files = next(os.walk(self.dir_path))\n",
        "    file_count = len(files)\n",
        "    return file_count\n",
        "  def __getitem__(self, i):\n",
        "    string = tf.strings.as_string(i).numpy()\n",
        "    string = string.decode()\n",
        "\n",
        "    file_path = self.dir_path + \"/\" +str(string)+\"_\"\n",
        "\n",
        "    if (os.path.isfile(file_path+\"0\"+\".jpg\")):\n",
        "      file_path += \"0.jpg\"\n",
        "    elif (os.path.isfile(file_path+\"1\"+\".jpg\")):\n",
        "      file_path += \"1.jpg\"\n",
        "\n",
        "    if (os.path.isfile(file_path)):\n",
        "      if self.transform:\n",
        "          image = Image.open(file_path)\n",
        "          image = self.transform(image)\n",
        "          return(np.array(image), str(string))\n",
        "      else:\n",
        "        image = Image.open(file_path)\n",
        "        return (np.array(image), str(string))\n",
        "    else:\n",
        "      return (\"Error\", str(string))\n",
        "\n",
        "  \n",
        "class ImageLabeled(torch.utils.data.Dataset):\n",
        "  def __init__(self, dir_path, transform=None):\n",
        "    self.dir_path = dir_path\n",
        "    self.transform = transform\n",
        "  def __len__(self):\n",
        "    path, dirs, files = next(os.walk(self.dir_path))\n",
        "    file_count = len(files)\n",
        "    return file_count\n",
        "  def __getitem__(self, i):\n",
        "    string = tf.strings.as_string(i).numpy()\n",
        "    string = string.decode()\n",
        "\n",
        "    file_path = self.dir_path + \"/\" +str(string)+\"_\"\n",
        "\n",
        "    if (os.path.isfile(file_path+\"0\"+\".jpg\")):\n",
        "      file_path += \"0.jpg\"\n",
        "    elif (os.path.isfile(file_path+\"1\"+\".jpg\")):\n",
        "      file_path += \"1.jpg\"\n",
        "\n",
        "    if (os.path.isfile(file_path)):\n",
        "      if self.transform:\n",
        "          image = Image.open(file_path)\n",
        "          image = self.transform(image)\n",
        "          return(np.array(image), str(string))\n",
        "      else:\n",
        "        image = Image.open(file_path)\n",
        "        return (np.array(image), str(string))\n",
        "    else:\n",
        "      return (\"Error\", str(string))\n",
        "\n",
        "\n",
        "unlabeled_data = ImageUnlabeled('./unlabeled', transforms.Compose([transforms.Scale(10),\n",
        "              transforms.Resize(250)]))\n",
        "labeled_data = ImageLabeled('./labeled', transforms.Compose([transforms.Scale(10),\n",
        "              transforms.Resize(250)]))\n",
        "\n",
        "unlabeled_loader = DataLoader(unlabeled_data, shuffle = True, persistent_workers=False)\n",
        "labeled_loader = DataLoader(labeled_data, shuffle = True, persistent_workers=False)\n",
        "\n",
        "# For unlabeled data (1 batch):\n",
        "print(next(iter(unlabeled_loader)))\n",
        "\n",
        "# For labeled data (1 batch):\n",
        "print(next(iter(labeled_loader)))"
      ],
      "execution_count": 99,
      "outputs": [
        {
          "output_type": "stream",
          "text": [
            "[('Error',), ('264',)]\n",
            "[tensor([[[[188, 165, 173],\n",
            "          [188, 165, 173],\n",
            "          [188, 165, 173],\n",
            "          ...,\n",
            "          [184, 156, 152],\n",
            "          [184, 156, 152],\n",
            "          [184, 156, 152]],\n",
            "\n",
            "         [[188, 165, 173],\n",
            "          [188, 165, 173],\n",
            "          [188, 165, 173],\n",
            "          ...,\n",
            "          [184, 156, 152],\n",
            "          [184, 156, 152],\n",
            "          [184, 156, 152]],\n",
            "\n",
            "         [[188, 165, 173],\n",
            "          [188, 165, 173],\n",
            "          [188, 165, 173],\n",
            "          ...,\n",
            "          [184, 156, 152],\n",
            "          [184, 156, 152],\n",
            "          [184, 156, 152]],\n",
            "\n",
            "         ...,\n",
            "\n",
            "         [[176, 148, 143],\n",
            "          [176, 148, 143],\n",
            "          [176, 148, 143],\n",
            "          ...,\n",
            "          [192, 164, 175],\n",
            "          [192, 164, 175],\n",
            "          [192, 164, 175]],\n",
            "\n",
            "         [[176, 148, 143],\n",
            "          [176, 148, 143],\n",
            "          [176, 148, 143],\n",
            "          ...,\n",
            "          [192, 164, 175],\n",
            "          [192, 164, 175],\n",
            "          [192, 164, 175]],\n",
            "\n",
            "         [[176, 148, 143],\n",
            "          [176, 148, 143],\n",
            "          [176, 148, 143],\n",
            "          ...,\n",
            "          [192, 164, 175],\n",
            "          [192, 164, 175],\n",
            "          [192, 164, 175]]]], dtype=torch.uint8), ('196',)]\n"
          ],
          "name": "stdout"
        },
        {
          "output_type": "stream",
          "text": [
            "/usr/local/lib/python3.6/dist-packages/torchvision/transforms/transforms.py:280: UserWarning: The use of the transforms.Scale transform is deprecated, please use transforms.Resize instead.\n",
            "  \"please use transforms.Resize instead.\")\n"
          ],
          "name": "stderr"
        }
      ]
    },
    {
      "cell_type": "code",
      "metadata": {
        "id": "DlpWexYL_-o-",
        "outputId": "aa999e7e-cc19-403e-fccd-a03ebea45635",
        "colab": {
          "base_uri": "https://localhost:8080/",
          "height": 286
        }
      },
      "source": [
        "import matplotlib.pyplot as plt\n",
        "import matplotlib.image as mpimg\n",
        "from IPython import display\n",
        "import time\n",
        "import cv2 # import opencv\n",
        "\n",
        "image, label = next(iter(labeled_loader))\n",
        "\n",
        "plt.imshow(image[0]) "
      ],
      "execution_count": 103,
      "outputs": [
        {
          "output_type": "execute_result",
          "data": {
            "text/plain": [
              "<matplotlib.image.AxesImage at 0x7f83d6263128>"
            ]
          },
          "metadata": {
            "tags": []
          },
          "execution_count": 103
        },
        {
          "output_type": "display_data",
          "data": {
            "image/png": "[encoded data removed]",
            "text/plain": [
              "<Figure size 432x288 with 1 Axes>"
            ]
          },
          "metadata": {
            "tags": [],
            "needs_background": "light"
          }
        }
      ]
    },
    {
      "cell_type": "code",
      "metadata": {
        "id": "o5Tj_wClJf8W"
      },
      "source": [
        ""
      ],
      "execution_count": null,
      "outputs": []
    }
  ]
}