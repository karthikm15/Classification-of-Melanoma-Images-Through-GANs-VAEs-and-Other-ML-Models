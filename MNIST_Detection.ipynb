{
  "nbformat": 4,
  "nbformat_minor": 0,
  "metadata": {
    "colab": {
      "name": "MNIST Detection.ipynb",
      "provenance": [],
      "authorship_tag": "ABX9TyPzgNi1Jw46NnC3ZnM3t+kr",
      "include_colab_link": true
    },
    "kernelspec": {
      "name": "python3",
      "display_name": "Python 3"
    },
    "accelerator": "GPU"
  },
  "cells": [
    {
      "cell_type": "markdown",
      "metadata": {
        "id": "view-in-github",
        "colab_type": "text"
      },
      "source": [
        "<a href=\"https://colab.research.google.com/github/karthikm15/Semi-Supervised-GANs-For-Melanoma-Detection/blob/main/MNIST_Detection.ipynb\" target=\"_parent\"><img src=\"https://colab.research.google.com/assets/colab-badge.svg\" alt=\"Open In Colab\"/></a>"
      ]
    },
    {
      "cell_type": "code",
      "metadata": {
        "id": "bpPGPwgcobDT"
      },
      "source": [
        "import matplotlib.pyplot as plt # for plotting the images\n",
        "%matplotlib inline\n",
        "\n",
        "import numpy as np\n",
        "\n",
        "import torch\n",
        "from torch.utils.data import DataLoader, Dataset\n",
        "\n",
        "# !pip uninstall torchvision -y\n",
        "# !pip install torchvision\n",
        "# !pip3 install https://download.pytorch.org/whl/cu100/torch-1.0.1.post2-cp35-cp35m-linux_x86_64.whl\n",
        "# !pip3 install torchvision\n",
        "\n",
        "import torchvision\n",
        "from __future__ import print_function\n",
        "import argparse\n",
        "import torch\n",
        "import torch.nn as nn # for building the neural network\n",
        "import torch.nn.functional as F # for building the neural network\n",
        "import torch.optim as optim # for building the neural network\n",
        "from torchvision import datasets, transforms\n",
        "from torch.autograd import Variable"
      ],
      "execution_count": 46,
      "outputs": []
    },
    {
      "cell_type": "code",
      "metadata": {
        "id": "SgtH9_OWoebL",
        "outputId": "cf3b2d80-770a-4d2d-bd06-d437e530d1fe",
        "colab": {
          "base_uri": "https://localhost:8080/"
        }
      },
      "source": [
        "if torch.cuda.is_available():\n",
        "   print(\"Your Colab notebook is configured to run on the GPU!\")\n",
        "else:\n",
        "   print(\"If you see this message, your Colab notebook is currently running on the CPU. Click the Runtime dropdown menu, select Change runtime type, and  choose GPU in the list of Hardware accelerators\")\n",
        "\n",
        "device = torch.device('cuda:0' if torch.cuda.is_available() else 'cpu')"
      ],
      "execution_count": 47,
      "outputs": [
        {
          "output_type": "stream",
          "text": [
            "Your Colab notebook is configured to run on the GPU!\n"
          ],
          "name": "stdout"
        }
      ]
    },
    {
      "cell_type": "code",
      "metadata": {
        "id": "OsliY-71oi_9",
        "outputId": "ea6bf478-9ba2-483d-b9c0-acbbe147e23c",
        "colab": {
          "base_uri": "https://localhost:8080/"
        }
      },
      "source": [
        "n_epochs = 3 # number of epochs that the model will be trained on\n",
        "batch_size_train = 64 # how many images will be run at a time when the model is training\n",
        "batch_size_test = 1000 # how many images will be run at a time when the model is being tested\n",
        "learning_rate = 0.01 # to measure how fast the model performs gradient descent to reach the global minimum\n",
        "momentum = 0.5 # Using momentum so that the gradient descent algoirthm doesn't get caught in local minima\n",
        "log_interval = 10 # Logarithm interval for scaling hyperparameters up and down\n",
        "\n",
        "random_seed = 1 # For repeating experiments, have to initialize random seeds for anything with random number gneration (including numpy and random)\n",
        "torch.backends.cudnn.enabled = False # cuDNN uses nondeterministic algorithms (algorithms that will produce a different output for the same input) which can be disabled\n",
        "torch.manual_seed(random_seed)"
      ],
      "execution_count": 48,
      "outputs": [
        {
          "output_type": "execute_result",
          "data": {
            "text/plain": [
              "<torch._C.Generator at 0x7f8e72ff25a0>"
            ]
          },
          "metadata": {
            "tags": []
          },
          "execution_count": 48
        }
      ]
    },
    {
      "cell_type": "code",
      "metadata": {
        "id": "IrxAqk63oqmU"
      },
      "source": [
        "# Loading the training data for MNIST - using a batch size of 64 as shown above\n",
        "# mean - 0.1307 and standard deviation - 0.3081 (global values chosen fo the MNIST dataset)\n",
        "train_loader = torch.utils.data.DataLoader(\n",
        "  torchvision.datasets.MNIST('/files/', train=True, download=True,\n",
        "                             transform=torchvision.transforms.Compose([\n",
        "                               torchvision.transforms.ToTensor(),\n",
        "                               torchvision.transforms.Normalize(\n",
        "                                 (0.1307,), (0.3081,))\n",
        "                             ])),\n",
        "  batch_size=batch_size_train, shuffle=True)\n",
        "\n",
        "# Loading the testing data for MNIST - using a batch size of 1000 as shown above\n",
        "test_loader = torch.utils.data.DataLoader(\n",
        "  torchvision.datasets.MNIST('/files/', train=False, download=True,\n",
        "                             transform=torchvision.transforms.Compose([\n",
        "                               torchvision.transforms.ToTensor(),\n",
        "                               torchvision.transforms.Normalize(\n",
        "                                 (0.1307,), (0.3081,))\n",
        "                             ])),\n",
        "  batch_size=batch_size_test, shuffle=True)\n",
        "\n",
        "# Interesting features in PyTorch that can be additionally implemented - other options beside dataset and batch size\n",
        "# Example: set num_workers > 1 to use subprocesses to asynchronously load data or use pinned RAM speed up RAM using GPU transfers"
      ],
      "execution_count": 49,
      "outputs": []
    },
    {
      "cell_type": "code",
      "metadata": {
        "id": "-jThOZIDot9f",
        "outputId": "9a2b4b2a-4d2c-4785-df38-b3b1f556d68a",
        "colab": {
          "base_uri": "https://localhost:8080/"
        }
      },
      "source": [
        "# Looking at some examples using enumerate() and next()\n",
        "examples = enumerate(test_loader)\n",
        "batch_idx, (example_data, example_targets) = next(examples)\n",
        "\n",
        "print(example_targets)"
      ],
      "execution_count": 50,
      "outputs": [
        {
          "output_type": "stream",
          "text": [
            "tensor([4, 4, 2, 1, 8, 8, 2, 8, 3, 8, 5, 5, 5, 3, 0, 3, 6, 3, 0, 7, 0, 7, 2, 3,\n",
            "        3, 4, 8, 2, 6, 1, 1, 2, 9, 5, 8, 2, 0, 3, 2, 3, 9, 9, 9, 3, 7, 9, 5, 7,\n",
            "        2, 1, 6, 7, 2, 9, 3, 1, 3, 2, 0, 4, 8, 7, 5, 2, 4, 6, 5, 3, 9, 8, 9, 6,\n",
            "        2, 8, 3, 9, 5, 9, 5, 0, 0, 4, 0, 2, 3, 0, 2, 8, 5, 8, 2, 2, 1, 3, 1, 5,\n",
            "        1, 7, 2, 8, 8, 4, 2, 2, 9, 3, 1, 1, 4, 7, 2, 8, 7, 6, 2, 7, 6, 3, 6, 1,\n",
            "        9, 0, 9, 7, 7, 9, 4, 0, 9, 4, 0, 2, 0, 7, 5, 9, 0, 4, 6, 7, 9, 4, 2, 4,\n",
            "        0, 1, 2, 1, 4, 9, 3, 5, 3, 7, 8, 8, 3, 8, 5, 9, 1, 8, 3, 6, 8, 3, 3, 8,\n",
            "        1, 6, 7, 4, 3, 3, 5, 6, 9, 6, 0, 2, 5, 1, 8, 0, 1, 4, 1, 1, 1, 7, 2, 7,\n",
            "        1, 1, 0, 4, 7, 2, 4, 6, 1, 4, 3, 6, 2, 7, 5, 4, 1, 3, 3, 3, 4, 7, 8, 0,\n",
            "        4, 3, 5, 8, 9, 4, 1, 9, 4, 7, 7, 1, 9, 6, 0, 4, 2, 9, 2, 1, 3, 6, 6, 0,\n",
            "        2, 2, 0, 0, 2, 5, 8, 9, 7, 0, 0, 9, 2, 0, 9, 2, 6, 9, 9, 5, 4, 3, 2, 9,\n",
            "        9, 4, 3, 5, 1, 3, 8, 5, 8, 4, 9, 5, 1, 4, 4, 6, 0, 7, 6, 8, 8, 8, 0, 9,\n",
            "        8, 4, 5, 9, 4, 6, 3, 9, 9, 4, 5, 6, 1, 1, 8, 6, 9, 7, 1, 3, 6, 0, 1, 9,\n",
            "        0, 6, 1, 6, 2, 8, 3, 1, 9, 0, 3, 0, 8, 1, 0, 0, 6, 3, 7, 3, 1, 0, 5, 0,\n",
            "        7, 1, 5, 5, 5, 2, 5, 1, 4, 3, 4, 8, 5, 8, 4, 6, 3, 2, 3, 9, 7, 0, 9, 0,\n",
            "        6, 1, 8, 4, 8, 8, 8, 1, 3, 5, 7, 1, 3, 1, 6, 0, 8, 7, 7, 3, 4, 2, 9, 6,\n",
            "        8, 1, 2, 4, 4, 7, 2, 6, 1, 5, 4, 8, 8, 1, 7, 2, 7, 7, 5, 7, 3, 0, 9, 2,\n",
            "        3, 7, 4, 6, 6, 5, 3, 1, 7, 3, 7, 3, 3, 9, 0, 7, 3, 4, 3, 6, 5, 8, 0, 7,\n",
            "        9, 6, 9, 9, 3, 4, 5, 8, 2, 6, 2, 1, 3, 1, 1, 3, 9, 2, 6, 4, 0, 7, 4, 8,\n",
            "        1, 5, 8, 2, 1, 7, 2, 7, 7, 8, 9, 5, 6, 5, 9, 3, 5, 4, 7, 6, 6, 6, 2, 0,\n",
            "        3, 3, 7, 0, 5, 7, 5, 2, 7, 1, 7, 2, 7, 2, 5, 9, 1, 0, 3, 5, 2, 5, 8, 1,\n",
            "        6, 9, 1, 7, 1, 1, 0, 5, 8, 9, 6, 3, 3, 4, 5, 7, 3, 0, 1, 6, 5, 8, 8, 1,\n",
            "        3, 3, 4, 7, 0, 0, 3, 4, 3, 4, 1, 1, 2, 5, 3, 1, 5, 2, 5, 8, 0, 2, 8, 8,\n",
            "        7, 3, 7, 4, 3, 1, 8, 0, 4, 9, 9, 1, 0, 6, 5, 8, 7, 0, 2, 1, 2, 4, 2, 3,\n",
            "        9, 1, 0, 6, 6, 6, 6, 4, 2, 5, 2, 0, 4, 8, 4, 2, 0, 0, 7, 0, 4, 2, 7, 5,\n",
            "        7, 8, 2, 1, 6, 6, 7, 9, 2, 9, 9, 9, 0, 9, 0, 6, 9, 8, 1, 3, 1, 4, 8, 8,\n",
            "        7, 1, 0, 8, 2, 0, 7, 9, 4, 4, 5, 7, 6, 8, 8, 9, 3, 4, 9, 7, 8, 9, 7, 7,\n",
            "        1, 1, 2, 0, 7, 8, 5, 7, 3, 4, 7, 7, 1, 7, 6, 4, 5, 3, 6, 3, 0, 8, 2, 2,\n",
            "        1, 7, 7, 2, 1, 7, 5, 4, 2, 4, 2, 1, 2, 7, 9, 5, 7, 3, 7, 1, 9, 0, 0, 5,\n",
            "        6, 1, 9, 4, 2, 6, 7, 3, 5, 5, 0, 1, 2, 7, 1, 4, 5, 7, 1, 5, 4, 5, 7, 4,\n",
            "        7, 7, 1, 0, 9, 1, 6, 7, 5, 3, 0, 3, 3, 8, 2, 2, 7, 2, 9, 3, 0, 2, 2, 6,\n",
            "        0, 2, 4, 2, 0, 1, 2, 7, 6, 7, 1, 7, 9, 6, 4, 5, 1, 6, 8, 4, 0, 5, 2, 7,\n",
            "        5, 4, 3, 3, 4, 6, 8, 5, 7, 6, 7, 0, 4, 2, 3, 5, 7, 6, 6, 8, 2, 1, 3, 4,\n",
            "        8, 5, 9, 2, 8, 9, 4, 5, 9, 7, 0, 7, 2, 3, 0, 4, 6, 6, 6, 2, 9, 7, 4, 2,\n",
            "        7, 4, 9, 7, 7, 5, 0, 1, 2, 8, 2, 2, 3, 1, 7, 9, 6, 9, 5, 2, 0, 1, 8, 9,\n",
            "        1, 5, 6, 9, 9, 1, 0, 4, 5, 0, 9, 8, 9, 4, 7, 8, 2, 2, 6, 6, 7, 2, 6, 3,\n",
            "        7, 1, 0, 1, 2, 2, 9, 0, 2, 7, 6, 2, 3, 1, 7, 7, 1, 9, 0, 9, 7, 1, 4, 4,\n",
            "        5, 8, 2, 8, 1, 4, 6, 4, 3, 9, 9, 2, 8, 2, 3, 6, 6, 5, 1, 1, 2, 7, 4, 9,\n",
            "        5, 7, 7, 8, 1, 6, 2, 9, 0, 4, 1, 0, 6, 1, 1, 1, 1, 2, 9, 9, 5, 3, 1, 2,\n",
            "        1, 8, 3, 4, 5, 1, 9, 3, 6, 1, 6, 1, 9, 9, 8, 9, 9, 1, 6, 1, 4, 7, 5, 1,\n",
            "        8, 5, 6, 7, 5, 9, 0, 3, 2, 0, 2, 4, 6, 5, 3, 1, 6, 5, 4, 5, 0, 8, 3, 1,\n",
            "        9, 8, 7, 7, 3, 6, 5, 4, 9, 5, 3, 9, 1, 4, 9, 7])\n"
          ],
          "name": "stdout"
        }
      ]
    },
    {
      "cell_type": "code",
      "metadata": {
        "id": "H0tWvhrJ_Aho",
        "outputId": "5a2f8cd4-6eff-4374-e62b-0819f543fc81",
        "colab": {
          "base_uri": "https://localhost:8080/"
        }
      },
      "source": [
        "example_data.shape # Have 1000 examples of 28x28 pixels in grayscale images"
      ],
      "execution_count": 51,
      "outputs": [
        {
          "output_type": "execute_result",
          "data": {
            "text/plain": [
              "torch.Size([1000, 1, 28, 28])"
            ]
          },
          "metadata": {
            "tags": []
          },
          "execution_count": 51
        }
      ]
    },
    {
      "cell_type": "code",
      "metadata": {
        "id": "wckVHuwT_FJV",
        "outputId": "b2f95a86-6cce-4301-ebd4-c0959979c483",
        "colab": {
          "base_uri": "https://localhost:8080/",
          "height": 284
        }
      },
      "source": [
        "# Plots the first six images with the subsequent ground truth value at the top\n",
        "\n",
        "import matplotlib.pyplot as plt\n",
        "\n",
        "fig = plt.figure()\n",
        "for i in range(6):\n",
        "  plt.subplot(2,3,i+1)\n",
        "  plt.tight_layout()\n",
        "  plt.imshow(example_data[i][0], cmap='gray', interpolation='none')\n",
        "  plt.title(\"Ground Truth: {}\".format(example_targets[i]))\n",
        "  plt.xticks([])\n",
        "  plt.yticks([])"
      ],
      "execution_count": 52,
      "outputs": [
        {
          "output_type": "display_data",
          "data": {
            "image/png": "[encoded data removed]",
            "text/plain": [
              "<Figure size 432x288 with 6 Axes>"
            ]
          },
          "metadata": {
            "tags": []
          }
        }
      ]
    },
    {
      "cell_type": "code",
      "metadata": {
        "id": "8e5OeLtLAZqH"
      },
      "source": [
        "# Building a neural network with two 2-D convolutional layers and two fully-connected/linear layers\n",
        "# Choosing ReLU as an activation function \n",
        "# Two dropout layers for regularization - to prevent overfitting\n",
        "class Net(nn.Module):\n",
        "    def __init__(self):  # defining the layers for the neural network in general\n",
        "        super(Net, self).__init__()\n",
        "        self.conv1 = nn.Conv2d(1, 10, kernel_size=5) # convolutional layer - one input nodes, ten output nodes, with a kernel size of five\n",
        "        self.conv2 = nn.Conv2d(10, 20, kernel_size=5) # convolutional layer - ten input nodes, twenty output nodes, with a kernal size of five\n",
        "        self.conv2_drop = nn.Dropout2d() # dropout - to prevent overfitting - randomly drops inputs from this layer\n",
        "        self.fc1 = nn.Linear(320, 50) # 1D tensor - from 320 input nodes to 50 output nodes\n",
        "        self.fc2 = nn.Linear(50, 10) # 1D tensor - from 50 input nodes to 10 output nodes\n",
        "\n",
        "    def forward(self, x): # defines how we compute our output using the given layers and funcions\n",
        "        x = F.relu(F.max_pool2d(self.conv1(x), 2)) # ReLU activation function - take self.conv1(x) as rows and 2 as the column\n",
        "        x = F.relu(F.max_pool2d(self.conv2_drop(self.conv2(x)), 2)) # ReLU activation function - take self.conv2(x) as row (with dropout) and 2 as the column\n",
        "        x = x.view(-1, 320) # reshapes the tensor so that it's -1 for rows (doesn't know the number of rows) and 320 for the number of columns\n",
        "        x = F.relu(self.fc1(x)) # Applying the ReLU activation function to the linear function\n",
        "        x = F.dropout(x, training=self.training) # Reducing overfitting on the linear model rather than the 2D model\n",
        "        x = self.fc2(x) # Simply just runs the function again\n",
        "        return F.log_softmax(x) # Gives each output decimal probabilities to easily distinguish the greatest one\n",
        "\n"
      ],
      "execution_count": 53,
      "outputs": []
    },
    {
      "cell_type": "code",
      "metadata": {
        "id": "GDe2O7D_F3rq"
      },
      "source": [
        "network = Net() # initializing the network\n",
        "optimizer = optim.SGD(network.parameters(), lr=learning_rate, momentum=momentum) # initializing the optimizer\n",
        "# To use GPUs - send the network parameters to GPU using network.cuda()"
      ],
      "execution_count": 54,
      "outputs": []
    },
    {
      "cell_type": "code",
      "metadata": {
        "id": "jUimHepmGKjC"
      },
      "source": [
        "train_losses = []\n",
        "train_counter = []\n",
        "test_losses = []\n",
        "test_counter = [i*len(train_loader.dataset) for i in range(n_epochs + 1)]"
      ],
      "execution_count": 55,
      "outputs": []
    },
    {
      "cell_type": "code",
      "metadata": {
        "id": "keB1rdrRGq4O"
      },
      "source": [
        "def train(epoch):\n",
        "  network.train() # tells the model that you are training the model, not testing it\n",
        "  for batch_idx, (data, target) in enumerate(train_loader): # batch_idx = the index that batch is currently on\n",
        "    optimizer.zero_grad() # manually setting all of the gradeints to 0 - since PyTorch by default accumulates gradients\n",
        "    output = network(data) # Feedforward through the network\n",
        "    loss = F.nll_loss(output, target) # Can use the loss function to calculate the loss compared to the target\n",
        "    loss.backward() # Uses backwards propagation through the network\n",
        "    optimizer.step() # Updates the weights in the network\n",
        "    if batch_idx % log_interval == 0:\n",
        "      print('Train Epoch: {} [{}/{} ({:.0f}%)]\\tLoss: {:.6f}'.format(\n",
        "        epoch, batch_idx * len(data), len(train_loader.dataset),\n",
        "        100. * batch_idx / len(train_loader), loss.item()))\n",
        "      train_losses.append(loss.item()) # appending the losses to an array\n",
        "      train_counter.append(\n",
        "        (batch_idx*64) + ((epoch-1)*len(train_loader.dataset)))\n",
        "      torch.save(network.state_dict(), './results/model.pth') # saving the model, .state_dict() allows it save and load their internal state\n",
        "      torch.save(optimizer.state_dict(), './results/optimizer.pth') # saving the optimizer\n",
        "      # can continue training from previosuly saved state dicts - .load_state_dict(state_dict)"
      ],
      "execution_count": 56,
      "outputs": []
    },
    {
      "cell_type": "code",
      "metadata": {
        "id": "ddJnqKoOIuNt"
      },
      "source": [
        "def test():\n",
        "  network.eval() # Tells the model that you are testing the model\n",
        "  test_loss = 0\n",
        "  correct = 0\n",
        "  with torch.no_grad(): # no_grad() avoids storing computations done producing the output of our network in the computation graph\n",
        "    for data, target in test_loader: \n",
        "      output = network(data) # does a feedforward through the network\n",
        "      test_loss += F.nll_loss(output, target, size_average=False).item() # calculates the loss of the function\n",
        "      pred = output.data.max(1, keepdim=True)[1] # It finds the probability that is the highest in outputs and stores it in prediction\n",
        "      correct += pred.eq(target.data.view_as(pred)).sum() # \n",
        "  test_loss /= len(test_loader.dataset) # averages the test loss over all the images in the array\n",
        "  test_losses.append(test_loss) # appends the test_losses to array\n",
        "  print('\\nTest set: Avg. loss: {:.4f}, Accuracy: {}/{} ({:.0f}%)\\n'.format(\n",
        "    test_loss, correct, len(test_loader.dataset),\n",
        "    100. * correct / len(test_loader.dataset)))"
      ],
      "execution_count": 57,
      "outputs": []
    },
    {
      "cell_type": "code",
      "metadata": {
        "id": "_JmRHUufJzEs",
        "outputId": "a8fde4e0-b04d-407f-8b7a-4665ef97af7c",
        "colab": {
          "base_uri": "https://localhost:8080/"
        }
      },
      "source": [
        "test()\n",
        "for epoch in range(1, n_epochs + 1):\n",
        "  train(epoch)\n",
        "  test()"
      ],
      "execution_count": 58,
      "outputs": [
        {
          "output_type": "stream",
          "text": [
            "/usr/local/lib/python3.6/dist-packages/ipykernel_launcher.py:20: UserWarning: Implicit dimension choice for log_softmax has been deprecated. Change the call to include dim=X as an argument.\n",
            "/usr/local/lib/python3.6/dist-packages/torch/nn/_reduction.py:44: UserWarning: size_average and reduce args will be deprecated, please use reduction='sum' instead.\n",
            "  warnings.warn(warning.format(ret))\n"
          ],
          "name": "stderr"
        },
        {
          "output_type": "stream",
          "text": [
            "\n",
            "Test set: Avg. loss: 2.3089, Accuracy: 674/10000 (7%)\n",
            "\n",
            "Train Epoch: 1 [0/60000 (0%)]\tLoss: 2.368649\n",
            "Train Epoch: 1 [640/60000 (1%)]\tLoss: 2.298366\n",
            "Train Epoch: 1 [1280/60000 (2%)]\tLoss: 2.294433\n",
            "Train Epoch: 1 [1920/60000 (3%)]\tLoss: 2.260970\n",
            "Train Epoch: 1 [2560/60000 (4%)]\tLoss: 2.295450\n",
            "Train Epoch: 1 [3200/60000 (5%)]\tLoss: 2.239506\n",
            "Train Epoch: 1 [3840/60000 (6%)]\tLoss: 2.274136\n",
            "Train Epoch: 1 [4480/60000 (7%)]\tLoss: 2.225711\n",
            "Train Epoch: 1 [5120/60000 (9%)]\tLoss: 2.168033\n",
            "Train Epoch: 1 [5760/60000 (10%)]\tLoss: 2.138118\n",
            "Train Epoch: 1 [6400/60000 (11%)]\tLoss: 2.061368\n",
            "Train Epoch: 1 [7040/60000 (12%)]\tLoss: 1.945130\n",
            "Train Epoch: 1 [7680/60000 (13%)]\tLoss: 1.949193\n",
            "Train Epoch: 1 [8320/60000 (14%)]\tLoss: 1.750880\n",
            "Train Epoch: 1 [8960/60000 (15%)]\tLoss: 1.642634\n",
            "Train Epoch: 1 [9600/60000 (16%)]\tLoss: 1.585531\n",
            "Train Epoch: 1 [10240/60000 (17%)]\tLoss: 1.416778\n",
            "Train Epoch: 1 [10880/60000 (18%)]\tLoss: 1.314595\n",
            "Train Epoch: 1 [11520/60000 (19%)]\tLoss: 1.256788\n",
            "Train Epoch: 1 [12160/60000 (20%)]\tLoss: 1.344633\n",
            "Train Epoch: 1 [12800/60000 (21%)]\tLoss: 1.077739\n",
            "Train Epoch: 1 [13440/60000 (22%)]\tLoss: 1.081740\n",
            "Train Epoch: 1 [14080/60000 (23%)]\tLoss: 0.987016\n",
            "Train Epoch: 1 [14720/60000 (25%)]\tLoss: 1.033360\n",
            "Train Epoch: 1 [15360/60000 (26%)]\tLoss: 0.897582\n",
            "Train Epoch: 1 [16000/60000 (27%)]\tLoss: 0.933026\n",
            "Train Epoch: 1 [16640/60000 (28%)]\tLoss: 0.944575\n",
            "Train Epoch: 1 [17280/60000 (29%)]\tLoss: 0.757116\n",
            "Train Epoch: 1 [17920/60000 (30%)]\tLoss: 0.903186\n",
            "Train Epoch: 1 [18560/60000 (31%)]\tLoss: 0.853701\n",
            "Train Epoch: 1 [19200/60000 (32%)]\tLoss: 0.820479\n",
            "Train Epoch: 1 [19840/60000 (33%)]\tLoss: 0.800447\n",
            "Train Epoch: 1 [20480/60000 (34%)]\tLoss: 1.011726\n",
            "Train Epoch: 1 [21120/60000 (35%)]\tLoss: 0.756903\n",
            "Train Epoch: 1 [21760/60000 (36%)]\tLoss: 0.777775\n",
            "Train Epoch: 1 [22400/60000 (37%)]\tLoss: 0.772612\n",
            "Train Epoch: 1 [23040/60000 (38%)]\tLoss: 0.985612\n",
            "Train Epoch: 1 [23680/60000 (39%)]\tLoss: 0.627540\n",
            "Train Epoch: 1 [24320/60000 (41%)]\tLoss: 0.810683\n",
            "Train Epoch: 1 [24960/60000 (42%)]\tLoss: 0.644313\n",
            "Train Epoch: 1 [25600/60000 (43%)]\tLoss: 0.591998\n",
            "Train Epoch: 1 [26240/60000 (44%)]\tLoss: 0.716178\n",
            "Train Epoch: 1 [26880/60000 (45%)]\tLoss: 0.534523\n",
            "Train Epoch: 1 [27520/60000 (46%)]\tLoss: 0.587616\n",
            "Train Epoch: 1 [28160/60000 (47%)]\tLoss: 0.624472\n",
            "Train Epoch: 1 [28800/60000 (48%)]\tLoss: 0.674985\n",
            "Train Epoch: 1 [29440/60000 (49%)]\tLoss: 0.514557\n",
            "Train Epoch: 1 [30080/60000 (50%)]\tLoss: 0.663964\n",
            "Train Epoch: 1 [30720/60000 (51%)]\tLoss: 0.642941\n",
            "Train Epoch: 1 [31360/60000 (52%)]\tLoss: 0.722029\n",
            "Train Epoch: 1 [32000/60000 (53%)]\tLoss: 0.496418\n",
            "Train Epoch: 1 [32640/60000 (54%)]\tLoss: 0.677668\n",
            "Train Epoch: 1 [33280/60000 (55%)]\tLoss: 0.504428\n",
            "Train Epoch: 1 [33920/60000 (57%)]\tLoss: 0.663938\n",
            "Train Epoch: 1 [34560/60000 (58%)]\tLoss: 0.503294\n",
            "Train Epoch: 1 [35200/60000 (59%)]\tLoss: 0.477889\n",
            "Train Epoch: 1 [35840/60000 (60%)]\tLoss: 0.794166\n",
            "Train Epoch: 1 [36480/60000 (61%)]\tLoss: 0.556869\n",
            "Train Epoch: 1 [37120/60000 (62%)]\tLoss: 0.731365\n",
            "Train Epoch: 1 [37760/60000 (63%)]\tLoss: 0.777076\n",
            "Train Epoch: 1 [38400/60000 (64%)]\tLoss: 0.372594\n",
            "Train Epoch: 1 [39040/60000 (65%)]\tLoss: 0.699481\n",
            "Train Epoch: 1 [39680/60000 (66%)]\tLoss: 0.448618\n",
            "Train Epoch: 1 [40320/60000 (67%)]\tLoss: 0.473050\n",
            "Train Epoch: 1 [40960/60000 (68%)]\tLoss: 0.595802\n",
            "Train Epoch: 1 [41600/60000 (69%)]\tLoss: 0.730539\n",
            "Train Epoch: 1 [42240/60000 (70%)]\tLoss: 0.657642\n",
            "Train Epoch: 1 [42880/60000 (71%)]\tLoss: 0.560993\n",
            "Train Epoch: 1 [43520/60000 (72%)]\tLoss: 0.615571\n",
            "Train Epoch: 1 [44160/60000 (74%)]\tLoss: 0.372756\n",
            "Train Epoch: 1 [44800/60000 (75%)]\tLoss: 0.608163\n",
            "Train Epoch: 1 [45440/60000 (76%)]\tLoss: 0.339298\n",
            "Train Epoch: 1 [46080/60000 (77%)]\tLoss: 0.581123\n",
            "Train Epoch: 1 [46720/60000 (78%)]\tLoss: 0.370507\n",
            "Train Epoch: 1 [47360/60000 (79%)]\tLoss: 0.511109\n",
            "Train Epoch: 1 [48000/60000 (80%)]\tLoss: 0.734303\n",
            "Train Epoch: 1 [48640/60000 (81%)]\tLoss: 0.721187\n",
            "Train Epoch: 1 [49280/60000 (82%)]\tLoss: 0.683140\n",
            "Train Epoch: 1 [49920/60000 (83%)]\tLoss: 0.730493\n",
            "Train Epoch: 1 [50560/60000 (84%)]\tLoss: 0.884790\n",
            "Train Epoch: 1 [51200/60000 (85%)]\tLoss: 0.522564\n",
            "Train Epoch: 1 [51840/60000 (86%)]\tLoss: 0.552372\n",
            "Train Epoch: 1 [52480/60000 (87%)]\tLoss: 0.423492\n",
            "Train Epoch: 1 [53120/60000 (88%)]\tLoss: 0.352806\n",
            "Train Epoch: 1 [53760/60000 (90%)]\tLoss: 0.499234\n",
            "Train Epoch: 1 [54400/60000 (91%)]\tLoss: 0.526626\n",
            "Train Epoch: 1 [55040/60000 (92%)]\tLoss: 0.519250\n",
            "Train Epoch: 1 [55680/60000 (93%)]\tLoss: 0.551768\n",
            "Train Epoch: 1 [56320/60000 (94%)]\tLoss: 0.367087\n",
            "Train Epoch: 1 [56960/60000 (95%)]\tLoss: 0.557815\n",
            "Train Epoch: 1 [57600/60000 (96%)]\tLoss: 0.559760\n",
            "Train Epoch: 1 [58240/60000 (97%)]\tLoss: 0.471249\n",
            "Train Epoch: 1 [58880/60000 (98%)]\tLoss: 0.334360\n",
            "Train Epoch: 1 [59520/60000 (99%)]\tLoss: 0.438915\n",
            "\n",
            "Test set: Avg. loss: 0.1933, Accuracy: 9436/10000 (94%)\n",
            "\n",
            "Train Epoch: 2 [0/60000 (0%)]\tLoss: 0.389359\n",
            "Train Epoch: 2 [640/60000 (1%)]\tLoss: 0.503007\n",
            "Train Epoch: 2 [1280/60000 (2%)]\tLoss: 0.479715\n",
            "Train Epoch: 2 [1920/60000 (3%)]\tLoss: 0.395343\n",
            "Train Epoch: 2 [2560/60000 (4%)]\tLoss: 0.546998\n",
            "Train Epoch: 2 [3200/60000 (5%)]\tLoss: 0.582413\n",
            "Train Epoch: 2 [3840/60000 (6%)]\tLoss: 0.288975\n",
            "Train Epoch: 2 [4480/60000 (7%)]\tLoss: 0.713193\n",
            "Train Epoch: 2 [5120/60000 (9%)]\tLoss: 0.468592\n",
            "Train Epoch: 2 [5760/60000 (10%)]\tLoss: 0.461409\n",
            "Train Epoch: 2 [6400/60000 (11%)]\tLoss: 0.420494\n",
            "Train Epoch: 2 [7040/60000 (12%)]\tLoss: 0.633788\n",
            "Train Epoch: 2 [7680/60000 (13%)]\tLoss: 0.498224\n",
            "Train Epoch: 2 [8320/60000 (14%)]\tLoss: 0.522662\n",
            "Train Epoch: 2 [8960/60000 (15%)]\tLoss: 0.492584\n",
            "Train Epoch: 2 [9600/60000 (16%)]\tLoss: 0.389133\n",
            "Train Epoch: 2 [10240/60000 (17%)]\tLoss: 0.445438\n",
            "Train Epoch: 2 [10880/60000 (18%)]\tLoss: 0.312806\n",
            "Train Epoch: 2 [11520/60000 (19%)]\tLoss: 0.384749\n",
            "Train Epoch: 2 [12160/60000 (20%)]\tLoss: 0.326914\n",
            "Train Epoch: 2 [12800/60000 (21%)]\tLoss: 0.520013\n",
            "Train Epoch: 2 [13440/60000 (22%)]\tLoss: 0.420716\n",
            "Train Epoch: 2 [14080/60000 (23%)]\tLoss: 0.374460\n",
            "Train Epoch: 2 [14720/60000 (25%)]\tLoss: 0.307619\n",
            "Train Epoch: 2 [15360/60000 (26%)]\tLoss: 0.407653\n",
            "Train Epoch: 2 [16000/60000 (27%)]\tLoss: 0.374905\n",
            "Train Epoch: 2 [16640/60000 (28%)]\tLoss: 0.442027\n",
            "Train Epoch: 2 [17280/60000 (29%)]\tLoss: 0.389150\n",
            "Train Epoch: 2 [17920/60000 (30%)]\tLoss: 0.651793\n",
            "Train Epoch: 2 [18560/60000 (31%)]\tLoss: 0.408287\n",
            "Train Epoch: 2 [19200/60000 (32%)]\tLoss: 0.300040\n",
            "Train Epoch: 2 [19840/60000 (33%)]\tLoss: 0.279920\n",
            "Train Epoch: 2 [20480/60000 (34%)]\tLoss: 0.407665\n",
            "Train Epoch: 2 [21120/60000 (35%)]\tLoss: 0.297466\n",
            "Train Epoch: 2 [21760/60000 (36%)]\tLoss: 0.273555\n",
            "Train Epoch: 2 [22400/60000 (37%)]\tLoss: 0.424745\n",
            "Train Epoch: 2 [23040/60000 (38%)]\tLoss: 0.555121\n",
            "Train Epoch: 2 [23680/60000 (39%)]\tLoss: 0.405032\n",
            "Train Epoch: 2 [24320/60000 (41%)]\tLoss: 0.283391\n",
            "Train Epoch: 2 [24960/60000 (42%)]\tLoss: 0.404788\n",
            "Train Epoch: 2 [25600/60000 (43%)]\tLoss: 0.571929\n",
            "Train Epoch: 2 [26240/60000 (44%)]\tLoss: 0.283663\n",
            "Train Epoch: 2 [26880/60000 (45%)]\tLoss: 0.535690\n",
            "Train Epoch: 2 [27520/60000 (46%)]\tLoss: 0.527369\n",
            "Train Epoch: 2 [28160/60000 (47%)]\tLoss: 0.434354\n",
            "Train Epoch: 2 [28800/60000 (48%)]\tLoss: 0.427185\n",
            "Train Epoch: 2 [29440/60000 (49%)]\tLoss: 0.375629\n",
            "Train Epoch: 2 [30080/60000 (50%)]\tLoss: 0.557584\n",
            "Train Epoch: 2 [30720/60000 (51%)]\tLoss: 0.281076\n",
            "Train Epoch: 2 [31360/60000 (52%)]\tLoss: 0.373245\n",
            "Train Epoch: 2 [32000/60000 (53%)]\tLoss: 0.231038\n",
            "Train Epoch: 2 [32640/60000 (54%)]\tLoss: 0.297670\n",
            "Train Epoch: 2 [33280/60000 (55%)]\tLoss: 0.327586\n",
            "Train Epoch: 2 [33920/60000 (57%)]\tLoss: 0.302512\n",
            "Train Epoch: 2 [34560/60000 (58%)]\tLoss: 0.253864\n",
            "Train Epoch: 2 [35200/60000 (59%)]\tLoss: 0.657450\n",
            "Train Epoch: 2 [35840/60000 (60%)]\tLoss: 0.277987\n",
            "Train Epoch: 2 [36480/60000 (61%)]\tLoss: 0.354875\n",
            "Train Epoch: 2 [37120/60000 (62%)]\tLoss: 0.388646\n",
            "Train Epoch: 2 [37760/60000 (63%)]\tLoss: 0.342180\n",
            "Train Epoch: 2 [38400/60000 (64%)]\tLoss: 0.342739\n",
            "Train Epoch: 2 [39040/60000 (65%)]\tLoss: 0.420273\n",
            "Train Epoch: 2 [39680/60000 (66%)]\tLoss: 0.291725\n",
            "Train Epoch: 2 [40320/60000 (67%)]\tLoss: 0.428819\n",
            "Train Epoch: 2 [40960/60000 (68%)]\tLoss: 0.221594\n",
            "Train Epoch: 2 [41600/60000 (69%)]\tLoss: 0.191834\n",
            "Train Epoch: 2 [42240/60000 (70%)]\tLoss: 0.201834\n",
            "Train Epoch: 2 [42880/60000 (71%)]\tLoss: 0.433239\n",
            "Train Epoch: 2 [43520/60000 (72%)]\tLoss: 0.511837\n",
            "Train Epoch: 2 [44160/60000 (74%)]\tLoss: 0.543958\n",
            "Train Epoch: 2 [44800/60000 (75%)]\tLoss: 0.265971\n",
            "Train Epoch: 2 [45440/60000 (76%)]\tLoss: 0.420031\n",
            "Train Epoch: 2 [46080/60000 (77%)]\tLoss: 0.335330\n",
            "Train Epoch: 2 [46720/60000 (78%)]\tLoss: 0.394782\n",
            "Train Epoch: 2 [47360/60000 (79%)]\tLoss: 0.324134\n",
            "Train Epoch: 2 [48000/60000 (80%)]\tLoss: 0.305854\n",
            "Train Epoch: 2 [48640/60000 (81%)]\tLoss: 0.279411\n",
            "Train Epoch: 2 [49280/60000 (82%)]\tLoss: 0.346827\n",
            "Train Epoch: 2 [49920/60000 (83%)]\tLoss: 0.157943\n",
            "Train Epoch: 2 [50560/60000 (84%)]\tLoss: 0.346886\n",
            "Train Epoch: 2 [51200/60000 (85%)]\tLoss: 0.269489\n",
            "Train Epoch: 2 [51840/60000 (86%)]\tLoss: 0.322011\n",
            "Train Epoch: 2 [52480/60000 (87%)]\tLoss: 0.216276\n",
            "Train Epoch: 2 [53120/60000 (88%)]\tLoss: 0.601342\n",
            "Train Epoch: 2 [53760/60000 (90%)]\tLoss: 0.496294\n",
            "Train Epoch: 2 [54400/60000 (91%)]\tLoss: 0.372311\n",
            "Train Epoch: 2 [55040/60000 (92%)]\tLoss: 0.419505\n",
            "Train Epoch: 2 [55680/60000 (93%)]\tLoss: 0.500552\n",
            "Train Epoch: 2 [56320/60000 (94%)]\tLoss: 0.340948\n",
            "Train Epoch: 2 [56960/60000 (95%)]\tLoss: 0.174410\n",
            "Train Epoch: 2 [57600/60000 (96%)]\tLoss: 0.478531\n",
            "Train Epoch: 2 [58240/60000 (97%)]\tLoss: 0.359114\n",
            "Train Epoch: 2 [58880/60000 (98%)]\tLoss: 0.266397\n",
            "Train Epoch: 2 [59520/60000 (99%)]\tLoss: 0.285017\n",
            "\n",
            "Test set: Avg. loss: 0.1212, Accuracy: 9636/10000 (96%)\n",
            "\n",
            "Train Epoch: 3 [0/60000 (0%)]\tLoss: 0.320934\n",
            "Train Epoch: 3 [640/60000 (1%)]\tLoss: 0.270856\n",
            "Train Epoch: 3 [1280/60000 (2%)]\tLoss: 0.330610\n",
            "Train Epoch: 3 [1920/60000 (3%)]\tLoss: 0.401917\n",
            "Train Epoch: 3 [2560/60000 (4%)]\tLoss: 0.380649\n",
            "Train Epoch: 3 [3200/60000 (5%)]\tLoss: 0.185144\n",
            "Train Epoch: 3 [3840/60000 (6%)]\tLoss: 0.371777\n",
            "Train Epoch: 3 [4480/60000 (7%)]\tLoss: 0.123537\n",
            "Train Epoch: 3 [5120/60000 (9%)]\tLoss: 0.202390\n",
            "Train Epoch: 3 [5760/60000 (10%)]\tLoss: 0.449644\n",
            "Train Epoch: 3 [6400/60000 (11%)]\tLoss: 0.258612\n",
            "Train Epoch: 3 [7040/60000 (12%)]\tLoss: 0.349364\n",
            "Train Epoch: 3 [7680/60000 (13%)]\tLoss: 0.230553\n",
            "Train Epoch: 3 [8320/60000 (14%)]\tLoss: 0.246532\n",
            "Train Epoch: 3 [8960/60000 (15%)]\tLoss: 0.234980\n",
            "Train Epoch: 3 [9600/60000 (16%)]\tLoss: 0.342304\n",
            "Train Epoch: 3 [10240/60000 (17%)]\tLoss: 0.146712\n",
            "Train Epoch: 3 [10880/60000 (18%)]\tLoss: 0.275894\n",
            "Train Epoch: 3 [11520/60000 (19%)]\tLoss: 0.300761\n",
            "Train Epoch: 3 [12160/60000 (20%)]\tLoss: 0.192969\n",
            "Train Epoch: 3 [12800/60000 (21%)]\tLoss: 0.368589\n",
            "Train Epoch: 3 [13440/60000 (22%)]\tLoss: 0.491368\n",
            "Train Epoch: 3 [14080/60000 (23%)]\tLoss: 0.232062\n",
            "Train Epoch: 3 [14720/60000 (25%)]\tLoss: 0.272440\n",
            "Train Epoch: 3 [15360/60000 (26%)]\tLoss: 0.438672\n",
            "Train Epoch: 3 [16000/60000 (27%)]\tLoss: 0.307778\n",
            "Train Epoch: 3 [16640/60000 (28%)]\tLoss: 0.273382\n",
            "Train Epoch: 3 [17280/60000 (29%)]\tLoss: 0.162456\n",
            "Train Epoch: 3 [17920/60000 (30%)]\tLoss: 0.352708\n",
            "Train Epoch: 3 [18560/60000 (31%)]\tLoss: 0.149796\n",
            "Train Epoch: 3 [19200/60000 (32%)]\tLoss: 0.232396\n",
            "Train Epoch: 3 [19840/60000 (33%)]\tLoss: 0.266341\n",
            "Train Epoch: 3 [20480/60000 (34%)]\tLoss: 0.336679\n",
            "Train Epoch: 3 [21120/60000 (35%)]\tLoss: 0.167922\n",
            "Train Epoch: 3 [21760/60000 (36%)]\tLoss: 0.490302\n",
            "Train Epoch: 3 [22400/60000 (37%)]\tLoss: 0.326185\n",
            "Train Epoch: 3 [23040/60000 (38%)]\tLoss: 0.411771\n",
            "Train Epoch: 3 [23680/60000 (39%)]\tLoss: 0.237039\n",
            "Train Epoch: 3 [24320/60000 (41%)]\tLoss: 0.374535\n",
            "Train Epoch: 3 [24960/60000 (42%)]\tLoss: 0.384364\n",
            "Train Epoch: 3 [25600/60000 (43%)]\tLoss: 0.355888\n",
            "Train Epoch: 3 [26240/60000 (44%)]\tLoss: 0.464889\n",
            "Train Epoch: 3 [26880/60000 (45%)]\tLoss: 0.179204\n",
            "Train Epoch: 3 [27520/60000 (46%)]\tLoss: 0.259919\n",
            "Train Epoch: 3 [28160/60000 (47%)]\tLoss: 0.347567\n",
            "Train Epoch: 3 [28800/60000 (48%)]\tLoss: 0.255136\n",
            "Train Epoch: 3 [29440/60000 (49%)]\tLoss: 0.232350\n",
            "Train Epoch: 3 [30080/60000 (50%)]\tLoss: 0.125849\n",
            "Train Epoch: 3 [30720/60000 (51%)]\tLoss: 0.168927\n",
            "Train Epoch: 3 [31360/60000 (52%)]\tLoss: 0.334440\n",
            "Train Epoch: 3 [32000/60000 (53%)]\tLoss: 0.235113\n",
            "Train Epoch: 3 [32640/60000 (54%)]\tLoss: 0.417485\n",
            "Train Epoch: 3 [33280/60000 (55%)]\tLoss: 0.309718\n",
            "Train Epoch: 3 [33920/60000 (57%)]\tLoss: 0.154180\n",
            "Train Epoch: 3 [34560/60000 (58%)]\tLoss: 0.222087\n",
            "Train Epoch: 3 [35200/60000 (59%)]\tLoss: 0.307457\n",
            "Train Epoch: 3 [35840/60000 (60%)]\tLoss: 0.333350\n",
            "Train Epoch: 3 [36480/60000 (61%)]\tLoss: 0.133243\n",
            "Train Epoch: 3 [37120/60000 (62%)]\tLoss: 0.146821\n",
            "Train Epoch: 3 [37760/60000 (63%)]\tLoss: 0.178338\n",
            "Train Epoch: 3 [38400/60000 (64%)]\tLoss: 0.250091\n",
            "Train Epoch: 3 [39040/60000 (65%)]\tLoss: 0.411358\n",
            "Train Epoch: 3 [39680/60000 (66%)]\tLoss: 0.260132\n",
            "Train Epoch: 3 [40320/60000 (67%)]\tLoss: 0.169789\n",
            "Train Epoch: 3 [40960/60000 (68%)]\tLoss: 0.250595\n",
            "Train Epoch: 3 [41600/60000 (69%)]\tLoss: 0.185515\n",
            "Train Epoch: 3 [42240/60000 (70%)]\tLoss: 0.199952\n",
            "Train Epoch: 3 [42880/60000 (71%)]\tLoss: 0.290194\n",
            "Train Epoch: 3 [43520/60000 (72%)]\tLoss: 0.219642\n",
            "Train Epoch: 3 [44160/60000 (74%)]\tLoss: 0.290527\n",
            "Train Epoch: 3 [44800/60000 (75%)]\tLoss: 0.284248\n",
            "Train Epoch: 3 [45440/60000 (76%)]\tLoss: 0.352596\n",
            "Train Epoch: 3 [46080/60000 (77%)]\tLoss: 0.565725\n",
            "Train Epoch: 3 [46720/60000 (78%)]\tLoss: 0.228555\n",
            "Train Epoch: 3 [47360/60000 (79%)]\tLoss: 0.230696\n",
            "Train Epoch: 3 [48000/60000 (80%)]\tLoss: 0.243273\n",
            "Train Epoch: 3 [48640/60000 (81%)]\tLoss: 0.272022\n",
            "Train Epoch: 3 [49280/60000 (82%)]\tLoss: 0.287144\n",
            "Train Epoch: 3 [49920/60000 (83%)]\tLoss: 0.329595\n",
            "Train Epoch: 3 [50560/60000 (84%)]\tLoss: 0.158091\n",
            "Train Epoch: 3 [51200/60000 (85%)]\tLoss: 0.229772\n",
            "Train Epoch: 3 [51840/60000 (86%)]\tLoss: 0.139081\n",
            "Train Epoch: 3 [52480/60000 (87%)]\tLoss: 0.423113\n",
            "Train Epoch: 3 [53120/60000 (88%)]\tLoss: 0.439047\n",
            "Train Epoch: 3 [53760/60000 (90%)]\tLoss: 0.250099\n",
            "Train Epoch: 3 [54400/60000 (91%)]\tLoss: 0.737291\n",
            "Train Epoch: 3 [55040/60000 (92%)]\tLoss: 0.374567\n",
            "Train Epoch: 3 [55680/60000 (93%)]\tLoss: 0.293031\n",
            "Train Epoch: 3 [56320/60000 (94%)]\tLoss: 0.246748\n",
            "Train Epoch: 3 [56960/60000 (95%)]\tLoss: 0.155488\n",
            "Train Epoch: 3 [57600/60000 (96%)]\tLoss: 0.313625\n",
            "Train Epoch: 3 [58240/60000 (97%)]\tLoss: 0.245092\n",
            "Train Epoch: 3 [58880/60000 (98%)]\tLoss: 0.176108\n",
            "Train Epoch: 3 [59520/60000 (99%)]\tLoss: 0.235266\n",
            "\n",
            "Test set: Avg. loss: 0.0959, Accuracy: 9694/10000 (97%)\n",
            "\n"
          ],
          "name": "stdout"
        }
      ]
    },
    {
      "cell_type": "code",
      "metadata": {
        "id": "14XyYx72LWL9",
        "outputId": "1c824fec-0c27-4449-8927-ae06a3defe6f",
        "colab": {
          "base_uri": "https://localhost:8080/",
          "height": 296
        }
      },
      "source": [
        "fig = plt.figure()\n",
        "plt.plot(train_counter, train_losses, color='blue')\n",
        "plt.xlabel('number of training examples seen')\n",
        "plt.ylabel('negative log likelihood loss')"
      ],
      "execution_count": 59,
      "outputs": [
        {
          "output_type": "execute_result",
          "data": {
            "text/plain": [
              "Text(0, 0.5, 'negative log likelihood loss')"
            ]
          },
          "metadata": {
            "tags": []
          },
          "execution_count": 59
        },
        {
          "output_type": "display_data",
          "data": {
            "image/png": "[encoded data removed]",
            "text/plain": [
              "<Figure size 432x288 with 1 Axes>"
            ]
          },
          "metadata": {
            "tags": [],
            "needs_background": "light"
          }
        }
      ]
    },
    {
      "cell_type": "code",
      "metadata": {
        "id": "aV7e4FhoNhWF",
        "outputId": "80df2be0-5257-4247-b238-02bd9f5bab94",
        "colab": {
          "base_uri": "https://localhost:8080/",
          "height": 296
        }
      },
      "source": [
        "fig = plt.figure()\n",
        "plt.scatter(test_counter, test_losses, color='red')\n",
        "plt.xlabel('number of training examples seen')\n",
        "plt.ylabel('negative log likelihood loss')"
      ],
      "execution_count": 60,
      "outputs": [
        {
          "output_type": "execute_result",
          "data": {
            "text/plain": [
              "Text(0, 0.5, 'negative log likelihood loss')"
            ]
          },
          "metadata": {
            "tags": []
          },
          "execution_count": 60
        },
        {
          "output_type": "display_data",
          "data": {
            "image/png": "[encoded data removed]",
            "text/plain": [
              "<Figure size 432x288 with 1 Axes>"
            ]
          },
          "metadata": {
            "tags": [],
            "needs_background": "light"
          }
        }
      ]
    },
    {
      "cell_type": "code",
      "metadata": {
        "id": "0boiPE1LPR2V",
        "outputId": "0a25a0b8-55b3-4b60-8795-a44c68bb97c6",
        "colab": {
          "base_uri": "https://localhost:8080/",
          "height": 321
        }
      },
      "source": [
        "with torch.no_grad():\n",
        "  output = network(example_data)\n",
        "\n",
        "fig = plt.figure()\n",
        "for i in range(6):\n",
        "  plt.subplot(2,3,i+1)\n",
        "  plt.tight_layout()\n",
        "  plt.imshow(example_data[i][0], cmap='gray', interpolation='none')\n",
        "  plt.title(\"Prediction: {}\".format(\n",
        "    output.data.max(1, keepdim=True)[1][i].item()))\n",
        "  plt.xticks([])\n",
        "  plt.yticks([])"
      ],
      "execution_count": 61,
      "outputs": [
        {
          "output_type": "stream",
          "text": [
            "/usr/local/lib/python3.6/dist-packages/ipykernel_launcher.py:20: UserWarning: Implicit dimension choice for log_softmax has been deprecated. Change the call to include dim=X as an argument.\n"
          ],
          "name": "stderr"
        },
        {
          "output_type": "display_data",
          "data": {
            "image/png": "[encoded data removed]",
            "text/plain": [
              "<Figure size 432x288 with 6 Axes>"
            ]
          },
          "metadata": {
            "tags": []
          }
        }
      ]
    },
    {
      "cell_type": "code",
      "metadata": {
        "id": "zs2ytumPQfnD"
      },
      "source": [
        "# Continuing training from checkpoints\n",
        "\n",
        "# Initialize a new set of network and optimizers\n",
        "continued_network = Net()\n",
        "continued_optimizer = optim.SGD(network.parameters(), lr=learning_rate, momentum=momentum)\n",
        "\n",
        "network_state_dict = torch.load('./results/model.pth')\n",
        "continued_network.load_state_dict(network_state_dict) # can load the internal state of network when last saved them\n",
        "\n",
        "optimizer_state_dict = torch.load('./results/optimizer.pth')\n",
        "continued_optimizer.load_state_dict(optimizer_state_dict) # can load the internal state of optimizers when last saved them"
      ],
      "execution_count": 62,
      "outputs": []
    },
    {
      "cell_type": "code",
      "metadata": {
        "id": "S53axhYEQy6i"
      },
      "source": [
        "# Example showing that training loop can immediately pick up training when left it\n",
        "# for i in range(4,9):\n",
        "#   test_counter.append(i*len(train_loader.dataset))\n",
        "#   train(i)\n",
        "#   test()"
      ],
      "execution_count": 63,
      "outputs": []
    },
    {
      "cell_type": "code",
      "metadata": {
        "id": "CAC4yjCwRXFY"
      },
      "source": [
        ""
      ],
      "execution_count": null,
      "outputs": []
    }
  ]
}